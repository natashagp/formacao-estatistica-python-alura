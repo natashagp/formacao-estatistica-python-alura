{
  "nbformat": 4,
  "nbformat_minor": 0,
  "metadata": {
    "colab": {
      "provenance": []
    },
    "kernelspec": {
      "name": "python3",
      "display_name": "Python 3"
    }
  },
  "cells": [
    {
      "metadata": {
        "id": "kffSOYcgir5Q",
        "colab": {
          "base_uri": "https://localhost:8080/"
        },
        "outputId": "3ae2f6cf-d156-4f06-e454-8f63fcdec4e6"
      },
      "cell_type": "code",
      "source": [
        "import pandas, numpy, scipy, matplotlib\n",
        "\n",
        "print('Versão do pandas -> %s' % pandas.__version__)\n",
        "print('Versão do numpy -> %s' % numpy.__version__)\n",
        "print('Versão do scipy -> %s' % scipy.__version__)\n",
        "print('Versão do matplotlib -> %s' % matplotlib.__version__)"
      ],
      "execution_count": 1,
      "outputs": [
        {
          "output_type": "stream",
          "name": "stdout",
          "text": [
            "Versão do pandas -> 2.2.2\n",
            "Versão do numpy -> 2.0.2\n",
            "Versão do scipy -> 1.15.3\n",
            "Versão do matplotlib -> 3.10.0\n"
          ]
        }
      ]
    },
    {
      "cell_type": "markdown",
      "source": [
        "# Versões da aula\n",
        "\n",
        "Versão do pandas -> 0.23.4\n",
        "\n",
        "Versão do numpy -> 1.16.2\n",
        "\n",
        "Versão do scipy -> 1.2.1\n",
        "\n",
        "Versão do matplotlib -> 3.0.3"
      ],
      "metadata": {
        "id": "dPZ2C2kGgX_4"
      }
    }
  ]
}