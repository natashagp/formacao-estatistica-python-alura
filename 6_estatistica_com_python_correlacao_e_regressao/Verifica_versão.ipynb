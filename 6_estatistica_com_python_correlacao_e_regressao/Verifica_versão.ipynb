{
  "cells": [
    {
      "cell_type": "code",
      "execution_count": 1,
      "metadata": {
        "id": "gSHqMRhFzcAb"
      },
      "outputs": [],
      "source": [
        "import pandas\n",
        "import numpy\n",
        "import seaborn\n",
        "import scipy\n",
        "import statsmodels"
      ]
    },
    {
      "cell_type": "code",
      "execution_count": 2,
      "metadata": {
        "colab": {
          "base_uri": "https://localhost:8080/"
        },
        "id": "GQ5bxfxXzvKp",
        "outputId": "daab9bd7-4eb2-4569-e1e6-fc7db8ea1b81"
      },
      "outputs": [
        {
          "output_type": "stream",
          "name": "stdout",
          "text": [
            "Versão do pandas -> 2.2.2\n",
            "Versão do numpy -> 2.0.2\n",
            "Versão do seaborn -> 0.13.2\n",
            "Versão do scipy -> 1.15.3\n",
            "Versão do statsmodels -> 0.14.4\n"
          ]
        }
      ],
      "source": [
        "print('Versão do pandas -> %s' % pandas.__version__)\n",
        "print('Versão do numpy -> %s' % numpy.__version__)\n",
        "print('Versão do seaborn -> %s' % seaborn.__version__)\n",
        "print('Versão do scipy -> %s' % scipy.__version__)\n",
        "print('Versão do statsmodels -> %s' % statsmodels.__version__)"
      ]
    },
    {
      "cell_type": "markdown",
      "source": [
        "# Versões da Aula\n",
        "\n",
        "- Versão do pandas -> 0.24.2\n",
        "- Versão do numpy -> 1.16.3\n",
        "- Versão do seaborn -> 0.9.0\n",
        "- Versão do scipy -> 1.3.0\n",
        "- Versão do statsmodels -> 0.9.0"
      ],
      "metadata": {
        "id": "CokfNYti_tph"
      }
    },
    {
      "cell_type": "markdown",
      "metadata": {
        "id": "Q1k5ex0Xi-3y"
      },
      "source": [
        "### Problema com dependência do *statsmodels*"
      ]
    },
    {
      "cell_type": "code",
      "execution_count": 3,
      "metadata": {
        "id": "5cbhXxAkjGQB"
      },
      "outputs": [],
      "source": [
        "import statsmodels.api"
      ]
    }
  ],
  "metadata": {
    "colab": {
      "provenance": []
    },
    "kernelspec": {
      "display_name": "Python 3",
      "language": "python",
      "name": "python3"
    },
    "language_info": {
      "codemirror_mode": {
        "name": "ipython",
        "version": 3
      },
      "file_extension": ".py",
      "mimetype": "text/x-python",
      "name": "python",
      "nbconvert_exporter": "python",
      "pygments_lexer": "ipython3",
      "version": "3.6.5"
    }
  },
  "nbformat": 4,
  "nbformat_minor": 0
}