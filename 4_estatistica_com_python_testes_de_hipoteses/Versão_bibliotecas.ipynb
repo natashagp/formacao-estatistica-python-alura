{
  "cells": [
    {
      "cell_type": "code",
      "execution_count": 2,
      "metadata": {
        "colab": {
          "base_uri": "https://localhost:8080/"
        },
        "id": "kffSOYcgir5Q",
        "outputId": "b51c5b64-7bb8-4fe0-9be5-13baf12412fb"
      },
      "outputs": [
        {
          "output_type": "stream",
          "name": "stdout",
          "text": [
            "Versão do pandas -> 2.2.2\n",
            "Versão do numpy -> 2.0.2\n",
            "Versão do scipy -> 1.15.3\n",
            "Versão do statsmodels -> 0.14.4\n",
            "Versão do seaborn -> 0.13.2\n",
            "Versão do matplotlib -> 3.10.0\n"
          ]
        }
      ],
      "source": [
        "import pandas, numpy, scipy, statsmodels, seaborn, matplotlib\n",
        "\n",
        "print('Versão do pandas -> %s' % pandas.__version__)\n",
        "print('Versão do numpy -> %s' % numpy.__version__)\n",
        "print('Versão do scipy -> %s' % scipy.__version__)\n",
        "print('Versão do statsmodels -> %s' % statsmodels.__version__)\n",
        "print('Versão do seaborn -> %s' % seaborn.__version__)\n",
        "print('Versão do matplotlib -> %s' % matplotlib.__version__)"
      ]
    },
    {
      "cell_type": "markdown",
      "source": [
        "# Versões da aula\n",
        "\n",
        "Versão do pandas -> 0.24.2\n",
        "\n",
        "Versão do numpy -> 1.16.3\n",
        "\n",
        "Versão do scipy -> 1.2.1\n",
        "\n",
        "Versão do statsmodels -> 0.9.0\n",
        "\n",
        "Versão do seaborn -> 0.9.0\n",
        "\n",
        "Versão do matplotlib -> 3.0.3"
      ],
      "metadata": {
        "id": "_Dxi63QEcrPJ"
      }
    }
  ],
  "metadata": {
    "colab": {
      "provenance": []
    },
    "kernelspec": {
      "display_name": "Python 3",
      "language": "python",
      "name": "python3"
    },
    "language_info": {
      "codemirror_mode": {
        "name": "ipython",
        "version": 3
      },
      "file_extension": ".py",
      "mimetype": "text/x-python",
      "name": "python",
      "nbconvert_exporter": "python",
      "pygments_lexer": "ipython3",
      "version": "3.6.5"
    }
  },
  "nbformat": 4,
  "nbformat_minor": 0
}